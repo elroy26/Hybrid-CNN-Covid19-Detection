{
  "nbformat": 4,
  "nbformat_minor": 0,
  "metadata": {
    "colab": {
      "name": "dataset preparing.ipynb",
      "provenance": [],
      "collapsed_sections": [],
      "authorship_tag": "ABX9TyOfVm1XGPVewvwOcUtV89RQ",
      "include_colab_link": true
    },
    "kernelspec": {
      "name": "python3",
      "display_name": "Python 3"
    }
  },
  "cells": [
    {
      "cell_type": "markdown",
      "metadata": {
        "id": "view-in-github",
        "colab_type": "text"
      },
      "source": [
        "<a href=\"https://colab.research.google.com/github/mr7495/covid19/blob/master/dataset_preparing.ipynb\" target=\"_parent\"><img src=\"https://colab.research.google.com/assets/colab-badge.svg\" alt=\"Open In Colab\"/></a>"
      ]
    },
    {
      "cell_type": "code",
      "metadata": {
        "id": "-xivVKx_ifTV",
        "colab_type": "code",
        "colab": {}
      },
      "source": [
        "!pip install zipfile36\n",
        "!pip install pydicom"
      ],
      "execution_count": 0,
      "outputs": []
    },
    {
      "cell_type": "code",
      "metadata": {
        "id": "Y6p_R7p6hxyG",
        "colab_type": "code",
        "colab": {}
      },
      "source": [
        "import numpy as np\n",
        "import pandas as pd\n",
        "import os\n",
        "import random \n",
        "import shutil\n",
        "import pydicom as dicom\n",
        "import cv2\n",
        "import csv\n",
        "import zipfile"
      ],
      "execution_count": 0,
      "outputs": []
    },
    {
      "cell_type": "code",
      "metadata": {
        "id": "bfsCc6mxjHXy",
        "colab_type": "code",
        "colab": {}
      },
      "source": [
        "# This is a link to kaggle dataset. If you have downloaded it already, save it as kaggle.zip in the current directory.\n",
        "# If the link expired, get the new link from https://www.kaggle.com/c/rsna-pneumonia-detection-challenge/data\n",
        "!wget -cO - 'https://storage.googleapis.com/kaggle-competitions-data/kaggle-v2/10338/862042/bundle/archive.zip?GoogleAccessId=web-data@kaggle-161607.iam.gserviceaccount.com&Expires=1587124102&Signature=UbIsEpcNjy3ymL%2BCt5cNunBYytcPNlMjVW4RmBKzzuwTL%2BqGHXDzKGbFM3rsewy6nWa9GJgU5ScP%2FVPFUVJdAU3gsqw7aR6En0AqbLMjZ3JE%2BMducSHY94zyZH%2Fn6LqBOwq%2F3FQmK6OC8Ze0OW5oJyNFD7nATMQU7GxbrarIMH6F6zg%2BmL%2BZF%2B6uqlZhAwYpKKLQtzVm7Tyu04Hse0ODtfKV78U3nREvAifK9CzPTRHzAh8AxIdNunMInOn10U4bzxWN%2F5x3Cex7kP6UHsTyJX2XF98eBrQinlgBuyWLbInpQDJVVl1QGFebCa7CN6lnOO2wEeV8Xy5MN6B%2FwlZvEw%3D%3D&response-content-disposition=attachment%3B+filename%3Drsna-pneumonia-detection-challenge.zip' > kaggle.zip"
      ],
      "execution_count": 0,
      "outputs": []
    },
    {
      "cell_type": "code",
      "metadata": {
        "id": "RY3c67BdjJf6",
        "colab_type": "code",
        "colab": {}
      },
      "source": [
        "#load covid-chestxray-dataset\n",
        "!git clone https://github.com/ieee8023/covid-chestxray-dataset"
      ],
      "execution_count": 0,
      "outputs": []
    },
    {
      "cell_type": "code",
      "metadata": {
        "id": "1YgUxOytjd-y",
        "colab_type": "code",
        "colab": {}
      },
      "source": [
        "archive = zipfile.ZipFile('kaggle.zip') #Extract Kaggle Dataset\n",
        "for file in archive.namelist():\n",
        "     archive.extract(file, '.')"
      ],
      "execution_count": 0,
      "outputs": []
    },
    {
      "cell_type": "code",
      "metadata": {
        "id": "CY0hd3Osinu6",
        "colab_type": "code",
        "colab": {}
      },
      "source": [
        "# Define addresses\n",
        "covid_chestxray = './covid-chestxray-dataset/metadata.csv'\n",
        "\n",
        "kaggle_csvname = 'stage_2_detailed_class_info.csv' # normal cases from kaggle dataset\n",
        "kaggle_csvname2 = 'stage_2_train_labels.csv' # pneumonia cases from kaggle dataset\n",
        "kaggle_imgpath = 'stage_2_train_images'\n",
        "\n",
        "related_views=[\"AP\",\"PA\",\"AP Supine\",\"AP semi erect\"]  #The view column in the covid_chestxray dataset that has suitable data\n",
        "filename_label = {'normal': [], 'pneumonia': [], 'COVID-19': []}\n",
        "\n",
        "mapping = dict() #mapping the types of the suitable data in the covid-chestxray-dataset into 3 classes\n",
        "mapping['COVID-19'] = 'COVID-19'\n",
        "mapping['COVID-19, ARDS'] = 'COVID-19'\n",
        "mapping['Pneumocystis'] = 'pneumonia'\n",
        "mapping['SARS'] = 'pneumonia'\n",
        "mapping['Streptococcus'] = 'pneumonia'\n",
        "mapping['Normal'] = 'normal'"
      ],
      "execution_count": 0,
      "outputs": []
    },
    {
      "cell_type": "code",
      "metadata": {
        "id": "TbSP6g3ekj6Z",
        "colab_type": "code",
        "colab": {}
      },
      "source": [
        "# In the next two cells we create All.csv\n",
        "covid_csv = pd.read_csv(covid_chestxray)\n",
        "for index, row in covid_csv.iterrows():\n",
        "    if row['finding'] in mapping:\n",
        "        if row['view'] in related_views:\n",
        "            if row['filename'] not in filename_label[mapping[row['finding']]]:\n",
        "                filename_label[mapping[row['finding']]].append(row['filename']) #add the suitable images names in the covid-chestxray-dataset\n",
        "\n",
        "\n",
        "csv_normal = pd.read_csv(kaggle_csvname)\n",
        "csv_pneu = pd.read_csv(kaggle_csvname2)\n",
        "all_names=[]\n",
        "for index, row in csv_normal.iterrows():\n",
        "    if row['class'] == 'Normal':\n",
        "        if row['patientId'] not in all_names:\n",
        "            all_names.append(row['patientId'])\n",
        "            new_name=row['patientId']+'.dcm'\n",
        "            if new_name not in filename_label['normal']:\n",
        "                filename_label['normal'].append(new_name) #add the suitable normal cases names in the kaggle dataset\n",
        "        \n",
        "for index, row in csv_pneu.iterrows():\n",
        "    if int(row['Target']) == 1:\n",
        "        if row['patientId'] not in all_names:\n",
        "            all_names.append(row['patientId'])\n",
        "            new_name=row['patientId']+'.dcm'\n",
        "            if new_name not in filename_label['pneumonia']:\n",
        "                filename_label['pneumonia'].append(new_name) #add the suitable pneumonia cases names in the kaggle dataset\n",
        "\n"
      ],
      "execution_count": 0,
      "outputs": []
    },
    {
      "cell_type": "code",
      "metadata": {
        "id": "6UazllNTk2Zx",
        "colab_type": "code",
        "colab": {}
      },
      "source": [
        "#Export All.csv\n",
        "with open('All.csv',newline='', mode='w') as csvfile:\n",
        "     csv_writer = csv.writer(csvfile, delimiter=',', quotechar='\"', quoting=csv.QUOTE_MINIMAL)\n",
        "     csv_writer.writerow(['filename','class'])\n",
        "     for key in filename_label:\n",
        "         for row in filename_label[key]:\n",
        "             if '.dcm' in row:\n",
        "                 new_row=row[:-4]+'.png'\n",
        "                 csv_writer.writerow([new_row,key])\n",
        "             else:\n",
        "                 csv_writer.writerow([row,key])     "
      ],
      "execution_count": 0,
      "outputs": []
    },
    {
      "cell_type": "code",
      "metadata": {
        "id": "LQQ-6qhQom00",
        "colab_type": "code",
        "colab": {}
      },
      "source": [
        "#We have divided patients infected to COVID-19 into five folds. This division is based on the covid-chestxray-dataset on 12 April\n",
        "#This dataset can change anytime, and you have to select the patients wisely\n",
        "ultimate_test_pneumonia = ['8', '31','171']\n",
        "ultimate_test_covid1  = ['19', '20', '36', '42', '86','13','96','51','49','116','150','151','168','56','70']\n",
        "ultimate_test_covid2=['2','4','6','11','12','13','14','15','117','152','163','167','142']\n",
        "ultimate_test_covid3=['16','17','18','21','33','34','36','37','44','45','46','47','165','166','164','161','160','132','162','159','158']\n",
        "ultimate_test_covid4=['39','40','41','43','44','45','46','47','48','50','51','52','157','156','155','154','153','151','149','148','147','146','145','71','72','73','74']\n",
        "ultimate_test_covid5=['53','56','57','58','59','60','61','62','63','64','65','66','67','68','69','118','132','139','138','141','144']"
      ],
      "execution_count": 0,
      "outputs": []
    },
    {
      "cell_type": "code",
      "metadata": {
        "id": "LZWBHOoMo48X",
        "colab_type": "code",
        "colab": {}
      },
      "source": [
        "try:\n",
        "  os.mkdir('Our_data_fold')\n",
        "  os.mkdir('Our_data_fold/fold1')\n",
        "  os.mkdir('Our_data_fold/fold2')\n",
        "  os.mkdir('Our_data_fold/fold3')\n",
        "  os.mkdir('Our_data_fold/fold4')\n",
        "  os.mkdir('Our_data_fold/fold5')\n",
        "except:\n",
        "  pass"
      ],
      "execution_count": 0,
      "outputs": []
    },
    {
      "cell_type": "code",
      "metadata": {
        "id": "7QX9VGIwo4_E",
        "colab_type": "code",
        "colab": {}
      },
      "source": [
        "#In the next cell we create the 8 training phases for each fold"
      ],
      "execution_count": 0,
      "outputs": []
    },
    {
      "cell_type": "code",
      "metadata": {
        "id": "enLJXGvKovgn",
        "colab_type": "code",
        "colab": {}
      },
      "source": [
        "for fo in range(1,6):\n",
        "\n",
        "    related_views=[\"AP\",\"PA\",\"AP Supine\",\"AP semi erect\"]\n",
        "    filename_label = {'normal': [], 'pneumonia': [], 'COVID-19': []}\n",
        "    patients_id={'normal': [], 'pneumonia': [], 'COVID-19': []}\n",
        "    covid_csv = pd.read_csv(covid_chestxray)\n",
        "    for index, row in covid_csv.iterrows():\n",
        "        if row['finding'] in mapping:\n",
        "            if row['view'] in related_views:\n",
        "                if row['filename'] not in filename_label[mapping[row['finding']]]:\n",
        "                    filename_label[mapping[row['finding']]].append(row['filename'])\n",
        "                    patients_id[mapping[row['finding']]].append(row['patientid'])\n",
        "\n",
        "\n",
        "    ultimate_train={'normal': [], 'pneumonia': [], 'COVID-19': []} #the data that is common between all training phases\n",
        "    ultimated_test=[] #The covid-19 and some pneumonia cases that is considered for testing in each fold\n",
        "    ultimate_test_pneumonia = ['8', '31','171'] #The pneumonia cases that are selected for testing\n",
        "    ultimate_test_covid  = globals()['ultimate_test_covid{}'.format(fo)].copy()\n",
        "    for index, row in covid_csv.iterrows(): #add the suitable images names in the covid-chestxray-dataset\n",
        "        if  str(row['patientid']) in ultimate_test_covid or str(row['patientid']) in ultimate_test_pneumonia:\n",
        "            if row['view'] in related_views:\n",
        "                if row['filename'] not in ultimated_test:\n",
        "                    ultimated_test.append(row['filename'])\n",
        "    for flp in filename_label['pneumonia']:\n",
        "        if flp not in ultimated_test:\n",
        "            ultimate_train['pneumonia'].append(flp)\n",
        "    for flp in filename_label['COVID-19']:\n",
        "        if flp not in ultimated_test:\n",
        "            ultimate_train['COVID-19'].append(flp)\n",
        "        \n",
        "    csv_normal = pd.read_csv(kaggle_csvname)\n",
        "    csv_pneu =   pd.read_csv(kaggle_csvname2)\n",
        "    patients = {'normal': [], 'pneumonia': []}\n",
        "    all_names=[]\n",
        "    all_data=[]\n",
        "    for index, row in csv_normal.iterrows(): #add the suitable normal cases in the kaggle dataset\n",
        "        if row['class'] == 'Normal':\n",
        "            if row['patientId'] not in all_names:\n",
        "                all_names.append(row['patientId'])\n",
        "                all_data.append([row['patientId'],'normal'])\n",
        "                patients['normal'].append(row['patientId'])\n",
        "                new_name=row['patientId']+'.dcm'\n",
        "                if new_name not in filename_label['normal']:\n",
        "                    filename_label['normal'].append(new_name)\n",
        "    for index, row in csv_pneu.iterrows(): #add the suitable pneumonia cases in the kaggle dataset\n",
        "        if int(row['Target']) == 1:\n",
        "            if row['patientId'] not in all_names:\n",
        "                all_names.append(row['patientId'])\n",
        "                all_data.append([row['patientId'],'pneumonia'])\n",
        "                patients['pneumonia'].append(row['patientId'])\n",
        "                new_name=row['patientId']+'.dcm'\n",
        "                if new_name not in filename_label['pneumonia']:\n",
        "                    filename_label['pneumonia'].append(new_name)\n",
        "                             \n",
        "    temp_all_train={'normal': [], 'pneumonia': [], 'COVID-19': []}\n",
        "    for key in filename_label:\n",
        "        for fl in filename_label[key]:\n",
        "            if fl not in ultimated_test:\n",
        "                if fl not in ultimate_train[key]:\n",
        "                    temp_all_train[key].append(fl)    #the images that can be considered for training\n",
        "                    \n",
        "    for i in range(10):\n",
        "        for key in temp_all_train:\n",
        "            random.shuffle(temp_all_train[key])  #shuffle the training data\n",
        "    for i in range(1,9): # Choose data for each training phase\n",
        "        globals()['train{}'.format(i)]={'normal': [], 'pneumonia': ultimate_train['pneumonia'].copy(), 'COVID-19': ultimate_train['COVID-19'].copy()}\n",
        "        globals()['train{}'.format(i)]['normal'].extend(temp_all_train['normal'][250*i:(250*i)+250])\n",
        "        globals()['train{}'.format(i)]['pneumonia'].extend(temp_all_train['pneumonia'][200*i:(200*i)+200])\n",
        "\n",
        "    for i in range(1,9): #Export CSV\n",
        "        with open('Our_data_fold/fold{}/train{}.csv'.format(fo,i),newline='', mode='w') as csvfile:\n",
        "             all_rows=[]\n",
        "             csv_writer = csv.writer(csvfile, delimiter=',', quotechar='\"', quoting=csv.QUOTE_MINIMAL)\n",
        "             csv_writer.writerow(['filename','class'])\n",
        "             for key in globals()['train{}'.format(i)]:\n",
        "                 for row in globals()['train{}'.format(i)][key]:\n",
        "                     if '.dcm' in row:\n",
        "                         new_row=row[:-4]+'.png'\n",
        "                         all_rows.append([new_row,key])\n",
        "                     else:\n",
        "                         if '.png ' in row:\n",
        "                             all_rows.append([row[:-1],key])\n",
        "                         else:\n",
        "                            all_rows.append([row,key])\n",
        "             for j in range(10):\n",
        "                random.shuffle(all_rows)\n",
        "             for arow in all_rows:\n",
        "                csv_writer.writerow(arow)\n",
        "    print('train list in fold{}'.format(fo),{'normal':len(globals()['train{}'.format(i)]['normal']),\n",
        "                                             'pneumonia':len(globals()['train{}'.format(i)]['pneumonia']),\n",
        "                                                             'COVID-19':len(globals()['train{}'.format(i)]['COVID-19'])})\n"
      ],
      "execution_count": 0,
      "outputs": []
    }
  ]
}